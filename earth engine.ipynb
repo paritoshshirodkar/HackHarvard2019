{
 "cells": [
  {
   "cell_type": "code",
   "execution_count": 1,
   "metadata": {
    "collapsed": true,
    "pycharm": {
     "is_executing": false
    }
   },
   "outputs": [],
   "source": [
    "import ee\n",
    "import ee.mapclient\n",
    "ee.Initialize()"
   ]
  },
  {
   "cell_type": "code",
   "execution_count": 2,
   "outputs": [],
   "source": [
    "landsat = ee.Image('LANDSAT/LC8_L1T_TOA/LC81230322014135LGN00')\n",
    "# geometry = ee.Geometry.Rectangle([42.347079, -71.139256, 42.45, -71.20])\n",
    "ee.mapclient.centerMap(-71.139256, 42.347079, 20)\n",
    "ee.mapclient.addToMap(landsat)\n",
    "# ee.mapclient.centerMap(42.347079, -71.139256, 20)\n",
    "# geometry = geometry['coordinates'][0]"
   ],
   "metadata": {
    "collapsed": false,
    "pycharm": {
     "name": "#%%\n",
     "is_executing": false
    }
   }
  },
  {
   "cell_type": "code",
   "execution_count": 3,
   "outputs": [],
   "source": [
    "# task_config = {\n",
    "#     'scale': 30,  \n",
    "#     'region': geometry\n",
    "#     }\n",
    "# \n",
    "# \n",
    "# task = ee.batch.Export.image.toDrive(landsat, 'exportExample', task_config)\n",
    "# \n",
    "# \n",
    "# #task = ee.batch.Export.image.toDrive(image=landsat, description='test',folder=r\"\\testfolder\", region=geometry, scale=30,fileFormat='KML', skipEmptyTiles=True)\n",
    "# \n",
    "# task.start()\n"
   ],
   "metadata": {
    "collapsed": false,
    "pycharm": {
     "name": "#%%\n",
     "is_executing": false
    }
   }
  }
 ],
 "metadata": {
  "kernelspec": {
   "display_name": "Python 3",
   "language": "python",
   "name": "python3"
  },
  "language_info": {
   "codemirror_mode": {
    "name": "ipython",
    "version": 2
   },
   "file_extension": ".py",
   "mimetype": "text/x-python",
   "name": "python",
   "nbconvert_exporter": "python",
   "pygments_lexer": "ipython2",
   "version": "2.7.6"
  },
  "pycharm": {
   "stem_cell": {
    "cell_type": "raw",
    "source": [],
    "metadata": {
     "collapsed": false
    }
   }
  }
 },
 "nbformat": 4,
 "nbformat_minor": 0
}