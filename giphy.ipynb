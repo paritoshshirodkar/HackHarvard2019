{
 "cells": [
  {
   "cell_type": "code",
   "execution_count": 4,
   "metadata": {
    "collapsed": true,
    "pycharm": {
     "is_executing": false
    }
   },
   "outputs": [],
   "source": []
  },
  {
   "cell_type": "code",
   "execution_count": 5,
   "outputs": [],
   "source": [
    "# import html2text\n",
    "# with open('submission.html') as f:\n",
    "#     mylist = [line.rstrip('\\n') for line in f]\n",
    "# h = html2text.HTML2Text()\n",
    "# h.ignore_links = True\n",
    "# print(h.handle(mylist))"
   ],
   "metadata": {
    "collapsed": false,
    "pycharm": {
     "name": "#%%\n",
     "is_executing": false
    }
   }
  },
  {
   "cell_type": "code",
   "execution_count": 6,
   "outputs": [],
   "source": [
    "# import codecs\n",
    "# url = \"https://en.wikipedia.org/wiki/Lionel_Messi\"\n",
    "# f = urllib.request.urlopen(url)\n",
    "# # print(f.read())\n",
    "# # f = codecs.open(f)\n",
    "# input = str(f.read())\n",
    "# import html2text\n",
    "# h = html2text.HTML2Text()\n",
    "# h.ignore_links = True\n",
    "# print(h.handle(input))"
   ],
   "metadata": {
    "collapsed": false,
    "pycharm": {
     "name": "#%%\n",
     "is_executing": false
    }
   }
  },
  {
   "cell_type": "code",
   "execution_count": 12,
   "outputs": [
    {
     "name": "stdout",
     "text": [
      "ryan+gosling\n['https://media3.giphy.com/media/wMvESGxZ0Cqd2/giphy-loop.mp4?cid=063d1ca375050d0b75e288c6f34591994c9476da9714660a&rid=giphy-loop.mp4', 'https://media3.giphy.com/media/12bkW04lYGVB3q/giphy-loop.mp4?cid=063d1ca375050d0b75e288c6f34591994c9476da9714660a&rid=giphy-loop.mp4', 'https://media0.giphy.com/media/GpyS1lJXJYupG/giphy-loop.mp4?cid=063d1ca375050d0b75e288c6f34591994c9476da9714660a&rid=giphy-loop.mp4']\n"
     ],
     "output_type": "stream"
    }
   ],
   "source": [
    "\n",
    "import urllib,json\n",
    "import urllib.request\n",
    "search_term = \"ryan gosling\"\n",
    "search_term = search_term.replace(' ', '+')\n",
    "print(search_term)\n",
    "data=json.loads(urllib.request.urlopen(\"http://api.giphy.com/v1/gifs/search?q=\"+search_term+\"&api_key=Dz1Ij8dpmMBrMy9Ayxmte4vUQifziIZf&limit=3\").read())\n",
    "result = json.dumps(data, sort_keys=True, indent=4)\n",
    "# print(result)\n",
    "r = []\n",
    "gifs = json.loads(result)\n",
    "for i in range(3):\n",
    "    gif = gifs['data'][i]['images']\n",
    "    gif = gif['looping']['mp4']\n",
    "    r.append(gif)\n",
    "print(r)"
   ],
   "metadata": {
    "collapsed": false,
    "pycharm": {
     "name": "#%%\n",
     "is_executing": false
    }
   }
  },
  {
   "cell_type": "code",
   "execution_count": null,
   "outputs": [],
   "source": [
    "\n"
   ],
   "metadata": {
    "collapsed": false,
    "pycharm": {
     "name": "#%%\n"
    }
   }
  }
 ],
 "metadata": {
  "kernelspec": {
   "display_name": "Python 3",
   "language": "python",
   "name": "python3"
  },
  "language_info": {
   "codemirror_mode": {
    "name": "ipython",
    "version": 2
   },
   "file_extension": ".py",
   "mimetype": "text/x-python",
   "name": "python",
   "nbconvert_exporter": "python",
   "pygments_lexer": "ipython2",
   "version": "2.7.6"
  },
  "pycharm": {
   "stem_cell": {
    "cell_type": "raw",
    "source": [],
    "metadata": {
     "collapsed": false
    }
   }
  }
 },
 "nbformat": 4,
 "nbformat_minor": 0
}