{
 "cells": [
  {
   "cell_type": "code",
   "execution_count": 1,
   "metadata": {
    "collapsed": true,
    "pycharm": {
     "is_executing": false
    }
   },
   "outputs": [],
   "source": [
    "import cv2\n",
    "import numpy as np\n",
    "from PIL import Image\n"
   ]
  },
  {
   "cell_type": "code",
   "execution_count": 2,
   "outputs": [],
   "source": [
    "img = cv2.imread(\"Screenshot.png\")\n",
    "hsv = cv2.cvtColor(img, cv2.COLOR_BGR2HSV)\n",
    "\n",
    "hsv = cv2.cvtColor(img, cv2.COLOR_BGR2HSV)"
   ],
   "metadata": {
    "collapsed": false,
    "pycharm": {
     "name": "#%%\n",
     "is_executing": false
    }
   }
  },
  {
   "cell_type": "code",
   "execution_count": 4,
   "outputs": [],
   "source": [
    "mask1 = cv2.inRange(hsv, (36, 25, 25), (70, 255,255))\n",
    "mask2 = cv2.inRange(hsv, (36, 25, 25), (86, 255,255))\n",
    "mask3 = cv2.inRange(hsv, (30, 86, 49), (30, 86, 49))\n",
    "mask4 = cv2.inRange(hsv, (164, 222, 2), (164, 222, 2))\n",
    "mask5 = cv2.inRange(hsv, (118, 186, 27), (118, 186, 27))\n",
    "mask6 = cv2.inRange(hsv, (76, 154, 42), (76, 154, 42))\n",
    "mask7 = cv2.inRange(hsv, (172, 223, 135), (172, 223, 135))\n",
    "mask8 = cv2.bitwise_or(mask1,mask2,mask3)\n",
    "mask9 = cv2.bitwise_or(mask4,mask5,mask6)\n",
    "mask = cv2.bitwise_or(mask8,mask9,mask7)"
   ],
   "metadata": {
    "collapsed": false,
    "pycharm": {
     "name": "#%%\n",
     "is_executing": false
    }
   }
  },
  {
   "cell_type": "code",
   "execution_count": 6,
   "outputs": [
    {
     "data": {
      "text/plain": "True"
     },
     "metadata": {},
     "output_type": "execute_result",
     "execution_count": 6
    }
   ],
   "source": [
    "imask = mask>0\n",
    "green = np.zeros_like(img, np.uint8)\n",
    "green[imask] = img[imask]\n",
    "cv2.imwrite(\"green.png\", green)"
   ],
   "metadata": {
    "collapsed": false,
    "pycharm": {
     "name": "#%%\n",
     "is_executing": false
    }
   }
  },
  {
   "cell_type": "code",
   "execution_count": 8,
   "outputs": [
    {
     "name": "stdout",
     "text": [
      "black=3788074, green=181430\nratio=0.045705962256241586\n"
     ],
     "output_type": "stream"
    }
   ],
   "source": [
    "im = Image.open('green.png')\n",
    "\n",
    "green = 0\n",
    "black = 0\n",
    "# print(im.getdata())\n",
    "for pixel in im.getdata():\n",
    "    if pixel == (0,0,0):\n",
    "        black +=1\n",
    "    else:\n",
    "         green += 1\n",
    "print('black=' + str(black)+', green='+str(green))\n",
    "print('ratio='+ str(green/(green+black)))"
   ],
   "metadata": {
    "collapsed": false,
    "pycharm": {
     "name": "#%%\n",
     "is_executing": false
    }
   }
  },
  {
   "cell_type": "code",
   "execution_count": null,
   "outputs": [],
   "source": [
    "\n"
   ],
   "metadata": {
    "collapsed": false,
    "pycharm": {
     "name": "#%%\n"
    }
   }
  }
 ],
 "metadata": {
  "kernelspec": {
   "display_name": "Python 3",
   "language": "python",
   "name": "python3"
  },
  "language_info": {
   "codemirror_mode": {
    "name": "ipython",
    "version": 2
   },
   "file_extension": ".py",
   "mimetype": "text/x-python",
   "name": "python",
   "nbconvert_exporter": "python",
   "pygments_lexer": "ipython2",
   "version": "2.7.6"
  },
  "pycharm": {
   "stem_cell": {
    "cell_type": "raw",
    "source": [],
    "metadata": {
     "collapsed": false
    }
   }
  }
 },
 "nbformat": 4,
 "nbformat_minor": 0
}